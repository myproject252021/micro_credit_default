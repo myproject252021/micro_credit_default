{
 "cells": [
  {
   "cell_type": "code",
   "execution_count": 1,
   "id": "2dbf5b3f",
   "metadata": {},
   "outputs": [],
   "source": [
    "import numpy as np\n",
    "import pandas as pd\n",
    "import matplotlib.pyplot as plt \n",
    "import seaborn as sns\n",
    "import warnings\n",
    "warnings.filterwarnings('ignore')"
   ]
  },
  {
   "cell_type": "code",
   "execution_count": 2,
   "id": "7b1e04c0",
   "metadata": {},
   "outputs": [],
   "source": [
    "df=pd.read_csv('Data file.csv')"
   ]
  },
  {
   "cell_type": "code",
   "execution_count": 3,
   "id": "cb0ccba0",
   "metadata": {},
   "outputs": [
    {
     "data": {
      "text/html": [
       "<div>\n",
       "<style scoped>\n",
       "    .dataframe tbody tr th:only-of-type {\n",
       "        vertical-align: middle;\n",
       "    }\n",
       "\n",
       "    .dataframe tbody tr th {\n",
       "        vertical-align: top;\n",
       "    }\n",
       "\n",
       "    .dataframe thead th {\n",
       "        text-align: right;\n",
       "    }\n",
       "</style>\n",
       "<table border=\"1\" class=\"dataframe\">\n",
       "  <thead>\n",
       "    <tr style=\"text-align: right;\">\n",
       "      <th></th>\n",
       "      <th>Unnamed: 0</th>\n",
       "      <th>label</th>\n",
       "      <th>msisdn</th>\n",
       "      <th>aon</th>\n",
       "      <th>daily_decr30</th>\n",
       "      <th>daily_decr90</th>\n",
       "      <th>rental30</th>\n",
       "      <th>rental90</th>\n",
       "      <th>last_rech_date_ma</th>\n",
       "      <th>last_rech_date_da</th>\n",
       "      <th>...</th>\n",
       "      <th>maxamnt_loans30</th>\n",
       "      <th>medianamnt_loans30</th>\n",
       "      <th>cnt_loans90</th>\n",
       "      <th>amnt_loans90</th>\n",
       "      <th>maxamnt_loans90</th>\n",
       "      <th>medianamnt_loans90</th>\n",
       "      <th>payback30</th>\n",
       "      <th>payback90</th>\n",
       "      <th>pcircle</th>\n",
       "      <th>pdate</th>\n",
       "    </tr>\n",
       "  </thead>\n",
       "  <tbody>\n",
       "    <tr>\n",
       "      <th>0</th>\n",
       "      <td>1</td>\n",
       "      <td>0</td>\n",
       "      <td>21408I70789</td>\n",
       "      <td>272.0</td>\n",
       "      <td>3055.050000</td>\n",
       "      <td>3065.150000</td>\n",
       "      <td>220.13</td>\n",
       "      <td>260.13</td>\n",
       "      <td>2.0</td>\n",
       "      <td>0.0</td>\n",
       "      <td>...</td>\n",
       "      <td>6.0</td>\n",
       "      <td>0.0</td>\n",
       "      <td>2.0</td>\n",
       "      <td>12</td>\n",
       "      <td>6</td>\n",
       "      <td>0.0</td>\n",
       "      <td>29.000000</td>\n",
       "      <td>29.000000</td>\n",
       "      <td>UPW</td>\n",
       "      <td>2016-07-20</td>\n",
       "    </tr>\n",
       "    <tr>\n",
       "      <th>1</th>\n",
       "      <td>2</td>\n",
       "      <td>1</td>\n",
       "      <td>76462I70374</td>\n",
       "      <td>712.0</td>\n",
       "      <td>12122.000000</td>\n",
       "      <td>12124.750000</td>\n",
       "      <td>3691.26</td>\n",
       "      <td>3691.26</td>\n",
       "      <td>20.0</td>\n",
       "      <td>0.0</td>\n",
       "      <td>...</td>\n",
       "      <td>12.0</td>\n",
       "      <td>0.0</td>\n",
       "      <td>1.0</td>\n",
       "      <td>12</td>\n",
       "      <td>12</td>\n",
       "      <td>0.0</td>\n",
       "      <td>0.000000</td>\n",
       "      <td>0.000000</td>\n",
       "      <td>UPW</td>\n",
       "      <td>2016-08-10</td>\n",
       "    </tr>\n",
       "    <tr>\n",
       "      <th>2</th>\n",
       "      <td>3</td>\n",
       "      <td>1</td>\n",
       "      <td>17943I70372</td>\n",
       "      <td>535.0</td>\n",
       "      <td>1398.000000</td>\n",
       "      <td>1398.000000</td>\n",
       "      <td>900.13</td>\n",
       "      <td>900.13</td>\n",
       "      <td>3.0</td>\n",
       "      <td>0.0</td>\n",
       "      <td>...</td>\n",
       "      <td>6.0</td>\n",
       "      <td>0.0</td>\n",
       "      <td>1.0</td>\n",
       "      <td>6</td>\n",
       "      <td>6</td>\n",
       "      <td>0.0</td>\n",
       "      <td>0.000000</td>\n",
       "      <td>0.000000</td>\n",
       "      <td>UPW</td>\n",
       "      <td>2016-08-19</td>\n",
       "    </tr>\n",
       "    <tr>\n",
       "      <th>3</th>\n",
       "      <td>4</td>\n",
       "      <td>1</td>\n",
       "      <td>55773I70781</td>\n",
       "      <td>241.0</td>\n",
       "      <td>21.228000</td>\n",
       "      <td>21.228000</td>\n",
       "      <td>159.42</td>\n",
       "      <td>159.42</td>\n",
       "      <td>41.0</td>\n",
       "      <td>0.0</td>\n",
       "      <td>...</td>\n",
       "      <td>6.0</td>\n",
       "      <td>0.0</td>\n",
       "      <td>2.0</td>\n",
       "      <td>12</td>\n",
       "      <td>6</td>\n",
       "      <td>0.0</td>\n",
       "      <td>0.000000</td>\n",
       "      <td>0.000000</td>\n",
       "      <td>UPW</td>\n",
       "      <td>2016-06-06</td>\n",
       "    </tr>\n",
       "    <tr>\n",
       "      <th>4</th>\n",
       "      <td>5</td>\n",
       "      <td>1</td>\n",
       "      <td>03813I82730</td>\n",
       "      <td>947.0</td>\n",
       "      <td>150.619333</td>\n",
       "      <td>150.619333</td>\n",
       "      <td>1098.90</td>\n",
       "      <td>1098.90</td>\n",
       "      <td>4.0</td>\n",
       "      <td>0.0</td>\n",
       "      <td>...</td>\n",
       "      <td>6.0</td>\n",
       "      <td>0.0</td>\n",
       "      <td>7.0</td>\n",
       "      <td>42</td>\n",
       "      <td>6</td>\n",
       "      <td>0.0</td>\n",
       "      <td>2.333333</td>\n",
       "      <td>2.333333</td>\n",
       "      <td>UPW</td>\n",
       "      <td>2016-06-22</td>\n",
       "    </tr>\n",
       "  </tbody>\n",
       "</table>\n",
       "<p>5 rows × 37 columns</p>\n",
       "</div>"
      ],
      "text/plain": [
       "   Unnamed: 0  label       msisdn    aon  daily_decr30  daily_decr90  \\\n",
       "0           1      0  21408I70789  272.0   3055.050000   3065.150000   \n",
       "1           2      1  76462I70374  712.0  12122.000000  12124.750000   \n",
       "2           3      1  17943I70372  535.0   1398.000000   1398.000000   \n",
       "3           4      1  55773I70781  241.0     21.228000     21.228000   \n",
       "4           5      1  03813I82730  947.0    150.619333    150.619333   \n",
       "\n",
       "   rental30  rental90  last_rech_date_ma  last_rech_date_da  ...  \\\n",
       "0    220.13    260.13                2.0                0.0  ...   \n",
       "1   3691.26   3691.26               20.0                0.0  ...   \n",
       "2    900.13    900.13                3.0                0.0  ...   \n",
       "3    159.42    159.42               41.0                0.0  ...   \n",
       "4   1098.90   1098.90                4.0                0.0  ...   \n",
       "\n",
       "   maxamnt_loans30  medianamnt_loans30  cnt_loans90  amnt_loans90  \\\n",
       "0              6.0                 0.0          2.0            12   \n",
       "1             12.0                 0.0          1.0            12   \n",
       "2              6.0                 0.0          1.0             6   \n",
       "3              6.0                 0.0          2.0            12   \n",
       "4              6.0                 0.0          7.0            42   \n",
       "\n",
       "   maxamnt_loans90  medianamnt_loans90  payback30  payback90  pcircle  \\\n",
       "0                6                 0.0  29.000000  29.000000      UPW   \n",
       "1               12                 0.0   0.000000   0.000000      UPW   \n",
       "2                6                 0.0   0.000000   0.000000      UPW   \n",
       "3                6                 0.0   0.000000   0.000000      UPW   \n",
       "4                6                 0.0   2.333333   2.333333      UPW   \n",
       "\n",
       "        pdate  \n",
       "0  2016-07-20  \n",
       "1  2016-08-10  \n",
       "2  2016-08-19  \n",
       "3  2016-06-06  \n",
       "4  2016-06-22  \n",
       "\n",
       "[5 rows x 37 columns]"
      ]
     },
     "execution_count": 3,
     "metadata": {},
     "output_type": "execute_result"
    }
   ],
   "source": [
    "df.head()"
   ]
  },
  {
   "cell_type": "code",
   "execution_count": 4,
   "id": "8a670ffc",
   "metadata": {},
   "outputs": [
    {
     "data": {
      "text/plain": [
       "Index(['Unnamed: 0', 'label', 'msisdn', 'aon', 'daily_decr30', 'daily_decr90',\n",
       "       'rental30', 'rental90', 'last_rech_date_ma', 'last_rech_date_da',\n",
       "       'last_rech_amt_ma', 'cnt_ma_rech30', 'fr_ma_rech30',\n",
       "       'sumamnt_ma_rech30', 'medianamnt_ma_rech30', 'medianmarechprebal30',\n",
       "       'cnt_ma_rech90', 'fr_ma_rech90', 'sumamnt_ma_rech90',\n",
       "       'medianamnt_ma_rech90', 'medianmarechprebal90', 'cnt_da_rech30',\n",
       "       'fr_da_rech30', 'cnt_da_rech90', 'fr_da_rech90', 'cnt_loans30',\n",
       "       'amnt_loans30', 'maxamnt_loans30', 'medianamnt_loans30', 'cnt_loans90',\n",
       "       'amnt_loans90', 'maxamnt_loans90', 'medianamnt_loans90', 'payback30',\n",
       "       'payback90', 'pcircle', 'pdate'],\n",
       "      dtype='object')"
      ]
     },
     "execution_count": 4,
     "metadata": {},
     "output_type": "execute_result"
    }
   ],
   "source": [
    "#Total columns name \n",
    "df.columns"
   ]
  },
  {
   "cell_type": "code",
   "execution_count": 5,
   "id": "73817fad",
   "metadata": {},
   "outputs": [
    {
     "data": {
      "text/plain": [
       "(209593, 37)"
      ]
     },
     "execution_count": 5,
     "metadata": {},
     "output_type": "execute_result"
    }
   ],
   "source": [
    "#No.of rows and columns\n",
    "df.shape"
   ]
  },
  {
   "cell_type": "code",
   "execution_count": 6,
   "id": "6fda5349",
   "metadata": {},
   "outputs": [
    {
     "name": "stdout",
     "output_type": "stream",
     "text": [
      "<class 'pandas.core.frame.DataFrame'>\n",
      "RangeIndex: 209593 entries, 0 to 209592\n",
      "Data columns (total 37 columns):\n",
      " #   Column                Non-Null Count   Dtype  \n",
      "---  ------                --------------   -----  \n",
      " 0   Unnamed: 0            209593 non-null  int64  \n",
      " 1   label                 209593 non-null  int64  \n",
      " 2   msisdn                209593 non-null  object \n",
      " 3   aon                   209593 non-null  float64\n",
      " 4   daily_decr30          209593 non-null  float64\n",
      " 5   daily_decr90          209593 non-null  float64\n",
      " 6   rental30              209593 non-null  float64\n",
      " 7   rental90              209593 non-null  float64\n",
      " 8   last_rech_date_ma     209593 non-null  float64\n",
      " 9   last_rech_date_da     209593 non-null  float64\n",
      " 10  last_rech_amt_ma      209593 non-null  int64  \n",
      " 11  cnt_ma_rech30         209593 non-null  int64  \n",
      " 12  fr_ma_rech30          209593 non-null  float64\n",
      " 13  sumamnt_ma_rech30     209593 non-null  float64\n",
      " 14  medianamnt_ma_rech30  209593 non-null  float64\n",
      " 15  medianmarechprebal30  209593 non-null  float64\n",
      " 16  cnt_ma_rech90         209593 non-null  int64  \n",
      " 17  fr_ma_rech90          209593 non-null  int64  \n",
      " 18  sumamnt_ma_rech90     209593 non-null  int64  \n",
      " 19  medianamnt_ma_rech90  209593 non-null  float64\n",
      " 20  medianmarechprebal90  209593 non-null  float64\n",
      " 21  cnt_da_rech30         209593 non-null  float64\n",
      " 22  fr_da_rech30          209593 non-null  float64\n",
      " 23  cnt_da_rech90         209593 non-null  int64  \n",
      " 24  fr_da_rech90          209593 non-null  int64  \n",
      " 25  cnt_loans30           209593 non-null  int64  \n",
      " 26  amnt_loans30          209593 non-null  int64  \n",
      " 27  maxamnt_loans30       209593 non-null  float64\n",
      " 28  medianamnt_loans30    209593 non-null  float64\n",
      " 29  cnt_loans90           209593 non-null  float64\n",
      " 30  amnt_loans90          209593 non-null  int64  \n",
      " 31  maxamnt_loans90       209593 non-null  int64  \n",
      " 32  medianamnt_loans90    209593 non-null  float64\n",
      " 33  payback30             209593 non-null  float64\n",
      " 34  payback90             209593 non-null  float64\n",
      " 35  pcircle               209593 non-null  object \n",
      " 36  pdate                 209593 non-null  object \n",
      "dtypes: float64(21), int64(13), object(3)\n",
      "memory usage: 59.2+ MB\n"
     ]
    }
   ],
   "source": [
    "#dtypes info\n",
    "df.info()"
   ]
  },
  {
   "cell_type": "code",
   "execution_count": 7,
   "id": "45098b19",
   "metadata": {},
   "outputs": [
    {
     "data": {
      "text/plain": [
       "Unnamed: 0              0\n",
       "label                   0\n",
       "msisdn                  0\n",
       "aon                     0\n",
       "daily_decr30            0\n",
       "daily_decr90            0\n",
       "rental30                0\n",
       "rental90                0\n",
       "last_rech_date_ma       0\n",
       "last_rech_date_da       0\n",
       "last_rech_amt_ma        0\n",
       "cnt_ma_rech30           0\n",
       "fr_ma_rech30            0\n",
       "sumamnt_ma_rech30       0\n",
       "medianamnt_ma_rech30    0\n",
       "medianmarechprebal30    0\n",
       "cnt_ma_rech90           0\n",
       "fr_ma_rech90            0\n",
       "sumamnt_ma_rech90       0\n",
       "medianamnt_ma_rech90    0\n",
       "medianmarechprebal90    0\n",
       "cnt_da_rech30           0\n",
       "fr_da_rech30            0\n",
       "cnt_da_rech90           0\n",
       "fr_da_rech90            0\n",
       "cnt_loans30             0\n",
       "amnt_loans30            0\n",
       "maxamnt_loans30         0\n",
       "medianamnt_loans30      0\n",
       "cnt_loans90             0\n",
       "amnt_loans90            0\n",
       "maxamnt_loans90         0\n",
       "medianamnt_loans90      0\n",
       "payback30               0\n",
       "payback90               0\n",
       "pcircle                 0\n",
       "pdate                   0\n",
       "dtype: int64"
      ]
     },
     "execution_count": 7,
     "metadata": {},
     "output_type": "execute_result"
    }
   ],
   "source": [
    "df.isna().sum()"
   ]
  },
  {
   "cell_type": "code",
   "execution_count": null,
   "id": "1c8a311c",
   "metadata": {},
   "outputs": [],
   "source": [
    "plt.figure(figsize=(20,10))\n",
    "sns.heatmap(df.isnull())"
   ]
  },
  {
   "cell_type": "code",
   "execution_count": null,
   "id": "0e440871",
   "metadata": {},
   "outputs": [],
   "source": [
    "df.drop(['Unnamed: 0'],axis=1,inplace=True)"
   ]
  },
  {
   "cell_type": "code",
   "execution_count": null,
   "id": "7ed48c14",
   "metadata": {},
   "outputs": [],
   "source": [
    "import datetime as dt"
   ]
  },
  {
   "cell_type": "code",
   "execution_count": null,
   "id": "32b3d74e",
   "metadata": {},
   "outputs": [],
   "source": [
    "df['year'] = pd.DatetimeIndex(df['pdate']).year \n",
    "df['month'] = pd.DatetimeIndex(df['pdate']).month \n",
    "df['day'] = pd.DatetimeIndex(df['pdate']).day\n",
    "df.head()"
   ]
  },
  {
   "cell_type": "code",
   "execution_count": null,
   "id": "795fcf3d",
   "metadata": {},
   "outputs": [],
   "source": [
    "df.drop(['pdate'],axis=1)"
   ]
  },
  {
   "cell_type": "code",
   "execution_count": null,
   "id": "1c2fff4d",
   "metadata": {},
   "outputs": [],
   "source": [
    "df['Time']=(df['year']*365)+(df['month']*30)+(df['day']) "
   ]
  },
  {
   "cell_type": "code",
   "execution_count": null,
   "id": "cab6c3c1",
   "metadata": {},
   "outputs": [],
   "source": [
    "df.drop(['year','month','day'],axis=1,inplace=True)"
   ]
  },
  {
   "cell_type": "code",
   "execution_count": null,
   "id": "deb50026",
   "metadata": {},
   "outputs": [],
   "source": [
    "df.describe()"
   ]
  },
  {
   "cell_type": "code",
   "execution_count": null,
   "id": "e44d1d6f",
   "metadata": {},
   "outputs": [],
   "source": [
    "df.corr()"
   ]
  },
  {
   "cell_type": "code",
   "execution_count": null,
   "id": "b4d0e2a3",
   "metadata": {},
   "outputs": [],
   "source": [
    "plt.figure(figsize=(60,55))\n",
    "sns.heatmap(df.corr(),annot=True)"
   ]
  },
  {
   "cell_type": "code",
   "execution_count": null,
   "id": "eb6314b2",
   "metadata": {},
   "outputs": [],
   "source": [
    "df_con_features=df[['aon', 'daily_decr30', 'daily_decr90',\n",
    "       'rental30', 'rental90', 'last_rech_date_ma', 'last_rech_date_da',\n",
    "       'last_rech_amt_ma', 'cnt_ma_rech30', 'fr_ma_rech30',\n",
    "       'sumamnt_ma_rech30', 'medianamnt_ma_rech30', 'medianmarechprebal30',\n",
    "       'cnt_ma_rech90', 'fr_ma_rech90', 'sumamnt_ma_rech90',\n",
    "       'medianamnt_ma_rech90', 'medianmarechprebal90', 'cnt_da_rech30',\n",
    "       'fr_da_rech30', 'cnt_da_rech90', 'fr_da_rech90', 'cnt_loans30',\n",
    "       'amnt_loans30', 'maxamnt_loans30', 'medianamnt_loans30', 'cnt_loans90',\n",
    "       'amnt_loans90', 'maxamnt_loans90', 'medianamnt_loans90', 'payback30',\n",
    "       'payback90']]"
   ]
  },
  {
   "cell_type": "markdown",
   "id": "6356a917",
   "metadata": {},
   "source": [
    "# EDA"
   ]
  },
  {
   "cell_type": "code",
   "execution_count": null,
   "id": "7321809a",
   "metadata": {},
   "outputs": [],
   "source": [
    "plt.subplots(figsize=(8,6))\n",
    "sns.countplot(x=\"label\", data=df)\n",
    "plt.title(\"Category of label\")\n",
    "plt.xlabel(' 0 = Failure(Defaulter) and 1 = Success(Non Defaulter)')\n",
    "plt.ylabel(\"count\")\n",
    "plt.show()\n",
    "\n",
    "df['label'].value_counts()"
   ]
  },
  {
   "cell_type": "code",
   "execution_count": null,
   "id": "1cbad94f",
   "metadata": {},
   "outputs": [],
   "source": [
    "plt.scatter(df.index,df['payback30'])\n",
    "plt.show()\n",
    "\n",
    "df['payback30'].value_counts()"
   ]
  },
  {
   "cell_type": "code",
   "execution_count": null,
   "id": "c11b6d47",
   "metadata": {},
   "outputs": [],
   "source": [
    "plt.subplots(figsize=(8,6))\n",
    "sns.countplot(x=\"Time\", data=df)\n",
    "plt.title(\"Countplot of day\")\n",
    "plt.xlabel('day')\n",
    "plt.ylabel(\"count\")\n",
    "plt.show()\n",
    "\n",
    "df['Time'].value_counts()"
   ]
  },
  {
   "cell_type": "code",
   "execution_count": null,
   "id": "5aae20bb",
   "metadata": {},
   "outputs": [],
   "source": [
    "\n",
    "sns.set(style='whitegrid')\n",
    "sns.violinplot(df['last_rech_amt_ma'])\n",
    "plt.show()\n",
    "\n",
    "df['last_rech_amt_ma'].value_counts()"
   ]
  },
  {
   "cell_type": "code",
   "execution_count": null,
   "id": "8e480817",
   "metadata": {},
   "outputs": [],
   "source": [
    "plt.scatter(df.index,df['cnt_loans30'])\n",
    "plt.show()\n",
    "\n",
    "df['cnt_loans30'].value_counts()\n"
   ]
  },
  {
   "cell_type": "code",
   "execution_count": null,
   "id": "57f5fbb8",
   "metadata": {},
   "outputs": [],
   "source": [
    "plt.scatter(df.index,df['amnt_loans90'])\n",
    "plt.show()\n",
    "\n",
    "df['amnt_loans90'].value_counts()"
   ]
  },
  {
   "cell_type": "code",
   "execution_count": null,
   "id": "609b534d",
   "metadata": {},
   "outputs": [],
   "source": [
    "plt.scatter(df.index,df['sumamnt_ma_rech30'])\n",
    "plt.show()\n",
    "\n",
    "df['sumamnt_ma_rech30'].value_counts()"
   ]
  },
  {
   "cell_type": "code",
   "execution_count": null,
   "id": "5fe6629c",
   "metadata": {},
   "outputs": [],
   "source": [
    "plt.scatter(df.index,df['payback30'])\n",
    "plt.show()\n",
    "\n",
    "df['payback30'].value_counts()"
   ]
  },
  {
   "cell_type": "code",
   "execution_count": null,
   "id": "5f3c8bf2",
   "metadata": {},
   "outputs": [],
   "source": [
    "for col in df.describe().columns:\n",
    "    data=df.copy()\n",
    "    data[col].hist(bins=25)\n",
    "    plt.xlabel(col)\n",
    "    plt.ylabel(\"Count\")\n",
    "    plt.title(col)\n",
    "    plt.show()"
   ]
  },
  {
   "cell_type": "code",
   "execution_count": null,
   "id": "1dea5e06",
   "metadata": {},
   "outputs": [],
   "source": [
    "for col in df.describe().columns:\n",
    "    data=df.copy()\n",
    "    plt.scatter(data[col],data['label'])\n",
    "    plt.xlabel(col)\n",
    "    plt.ylabel('label')\n",
    "    plt.show()"
   ]
  },
  {
   "cell_type": "code",
   "execution_count": null,
   "id": "d187df93",
   "metadata": {},
   "outputs": [],
   "source": [
    "plt.figure(figsize=(18,8))\n",
    "sns.factorplot(x='label',y='aon',data=df,kind='bar',size=5,palette='muted',aspect=1)\n",
    "plt.title('label vs aon')\n",
    "plt.xticks(rotation='vertical')\n",
    "plt.ylabel('aon')\n",
    "plt.show()\n",
    "\n",
    "\n",
    "print(df.groupby('aon')['label'].value_counts())"
   ]
  },
  {
   "cell_type": "code",
   "execution_count": null,
   "id": "1bcbd994",
   "metadata": {},
   "outputs": [],
   "source": [
    "plt.figure(figsize=(18,8))\n",
    "sns.factorplot(x='label',y='cnt_ma_rech30',data=df,kind='bar',size=5,palette='muted',aspect=1)\n",
    "plt.title('label vs cnt_ma_rech30')\n",
    "plt.xticks(rotation='vertical')\n",
    "plt.ylabel('cnt_ma_rech30')\n",
    "plt.show()\n",
    "\n",
    "print(df.groupby('cnt_ma_rech30')['label'].value_counts())"
   ]
  },
  {
   "cell_type": "code",
   "execution_count": null,
   "id": "f5dcd27e",
   "metadata": {},
   "outputs": [],
   "source": [
    "plt.figure(figsize=(18,8))\n",
    "sns.factorplot(x='label',y='sumamnt_ma_rech30',data=df,kind='bar',size=5,palette='muted',aspect=1)\n",
    "plt.title('label vs sumamnt_ma_rech30')\n",
    "plt.xticks(rotation='vertical')\n",
    "plt.ylabel('sumamnt_ma_rech30')\n",
    "plt.show()\n",
    "\n",
    "print(df.groupby('sumamnt_ma_rech30')['label'].value_counts())"
   ]
  },
  {
   "cell_type": "code",
   "execution_count": null,
   "id": "dea251d9",
   "metadata": {},
   "outputs": [],
   "source": [
    "plt.figure(figsize=(18,8))\n",
    "sns.factorplot(x='label',y='cnt_ma_rech90',data=df,kind='bar',size=5,palette='muted',aspect=1)\n",
    "plt.title('label vs cnt_ma_rech90')\n",
    "plt.xticks(rotation='vertical')\n",
    "plt.ylabel('cnt_ma_rech90')\n",
    "plt.show()\n",
    "\n",
    "print(df.groupby('cnt_ma_rech90')['label'].value_counts())"
   ]
  },
  {
   "cell_type": "code",
   "execution_count": null,
   "id": "854986bc",
   "metadata": {},
   "outputs": [],
   "source": [
    "plt.figure(figsize=(18,8))\n",
    "sns.factorplot(x='label',y='sumamnt_ma_rech90',data=df,kind='bar',size=5,palette='muted',aspect=1)\n",
    "plt.title('label vs sumamnt_ma_rech90')\n",
    "plt.xticks(rotation='vertical')\n",
    "plt.ylabel('sumamnt_ma_rech90')\n",
    "plt.show()\n",
    "\n",
    "print(df.groupby('sumamnt_ma_rech90')['label'].value_counts())"
   ]
  },
  {
   "cell_type": "code",
   "execution_count": null,
   "id": "16c944d8",
   "metadata": {},
   "outputs": [],
   "source": [
    "plt.figure(figsize=(18,8))\n",
    "sns.factorplot(x='label',y='amnt_loans90',data=df,kind='bar',size=5,aspect=1)\n",
    "plt.title('label vs amnt_loans90')\n",
    "plt.xticks(rotation='vertical')\n",
    "plt.ylabel('amnt_loans90')\n",
    "plt.show()\n",
    "\n",
    "print(df.groupby('amnt_loans90')['label'].value_counts())"
   ]
  },
  {
   "cell_type": "code",
   "execution_count": null,
   "id": "02d0e0ea",
   "metadata": {},
   "outputs": [],
   "source": [
    "plt.figure(figsize=(18,8))\n",
    "sns.factorplot(x='label',y='amnt_loans90',data=df,kind='bar',size=5,palette='muted',aspect=1)\n",
    "plt.title('label vs amnt_loans90')\n",
    "plt.xticks(rotation='vertical')\n",
    "plt.ylabel('amnt_loans90')\n",
    "plt.show()\n",
    "\n",
    "print(df.groupby('amnt_loans90')['label'].value_counts())"
   ]
  },
  {
   "cell_type": "code",
   "execution_count": null,
   "id": "5b6b88a7",
   "metadata": {},
   "outputs": [],
   "source": [
    "plt.figure(figsize=(18,8))\n",
    "mean_price=np.mean(df['medianamnt_ma_rech90'])\n",
    "sns.boxplot(y='medianamnt_ma_rech90',x='label',data=df,palette=\"rainbow\")\n",
    "plt.axhline(mean_price,color='r',linestyle='dashed',linewidth=2)\n",
    "plt.title(\"medianamnt_ma_rech90 vs label\",fontsize=30)\n",
    "plt.xticks(rotation='vertical')\n",
    "plt.show()\n"
   ]
  },
  {
   "cell_type": "code",
   "execution_count": null,
   "id": "52223c07",
   "metadata": {},
   "outputs": [],
   "source": [
    "facet= sns.FacetGrid(df, col='label')\n",
    "facet.map(sns.distplot, \"daily_decr30\")\n",
    "plt.show()"
   ]
  },
  {
   "cell_type": "code",
   "execution_count": null,
   "id": "b42e7848",
   "metadata": {},
   "outputs": [],
   "source": [
    "facet= sns.FacetGrid(df, col='label')\n",
    "facet.map(sns.distplot, \"daily_decr90\")\n",
    "plt.show()"
   ]
  },
  {
   "cell_type": "code",
   "execution_count": null,
   "id": "4e34e38d",
   "metadata": {},
   "outputs": [],
   "source": [
    "sns.set(rc={'figure.figsize':(9,9)})\n",
    "sns.violinplot(x=df['label'],y=df['cnt_ma_rech30'],data=df)"
   ]
  },
  {
   "cell_type": "code",
   "execution_count": null,
   "id": "3832c7aa",
   "metadata": {},
   "outputs": [],
   "source": [
    "plt.figure(figsize=(14,14))\n",
    "sns.lmplot(x='cnt_ma_rech30',y='cnt_ma_rech90',fit_reg=False,data=df,hue='label',markers=['+','x'])\n",
    "plt.xlabel('cnt_ma_rech30')\n",
    "plt.title('correaltion between cnt_ma_rech30 and cnt_ma_rech90')\n",
    "plt.ylabel('cnt_ma_rech90')\n",
    "plt.show()"
   ]
  },
  {
   "cell_type": "code",
   "execution_count": null,
   "id": "3a74a642",
   "metadata": {},
   "outputs": [],
   "source": [
    "plt.figure(figsize=(14,14))\n",
    "sns.lmplot(x='cnt_loans30',y='cnt_loans30',fit_reg=False,data=df,hue='label',markers=['+','x'])\n",
    "plt.xlabel('cnt_loans30')\n",
    "plt.title('correaltion between cnt_loans30 and cnt_amnt30')\n",
    "plt.ylabel('cnt_amnt30')\n",
    "plt.show()"
   ]
  },
  {
   "cell_type": "code",
   "execution_count": null,
   "id": "d31547eb",
   "metadata": {},
   "outputs": [],
   "source": [
    "plt.figure(figsize=(14,14))\n",
    "sns.lmplot(x='sumamnt_ma_rech90',y='amnt_loans90',fit_reg=False,data=df,hue='label',markers=['+','x'])\n",
    "plt.xlabel('sumamnt_ma_rech90')\n",
    "plt.title('correaltion between sumamnt_ma_rech90 and amnt_loans90')\n",
    "plt.ylabel('amnt_loans90')\n",
    "plt.show()"
   ]
  },
  {
   "cell_type": "code",
   "execution_count": null,
   "id": "512e012e",
   "metadata": {},
   "outputs": [],
   "source": [
    "# from sklearn.preprocessing import LabelEncoder\n",
    "# le=LabelEncoder()\n",
    "# for i in df:\n",
    "#     df[i]=le.fit_transform(df[i])    "
   ]
  },
  {
   "cell_type": "code",
   "execution_count": null,
   "id": "cc1a5ab8",
   "metadata": {},
   "outputs": [],
   "source": [
    "df.head()"
   ]
  },
  {
   "cell_type": "code",
   "execution_count": null,
   "id": "9b28dae3",
   "metadata": {},
   "outputs": [],
   "source": [
    "df['label'].value_counts()"
   ]
  },
  {
   "cell_type": "code",
   "execution_count": null,
   "id": "7f88101c",
   "metadata": {},
   "outputs": [],
   "source": [
    "df.info()"
   ]
  },
  {
   "cell_type": "code",
   "execution_count": null,
   "id": "fdd1baa2",
   "metadata": {},
   "outputs": [],
   "source": [
    "# from sklearn.preprocessing import OrdinalEncoder\n",
    "# enc=OrdinalEncoder()\n",
    "# for i in df.columns:\n",
    "#     if df[i].dtypes==\"object\":\n",
    "#          df[i]=enc.fit_transform(df[i].values.reshape(-1,1))\n",
    "# df.head()"
   ]
  },
  {
   "cell_type": "code",
   "execution_count": null,
   "id": "f365f670",
   "metadata": {},
   "outputs": [],
   "source": [
    "plt.figure(figsize=(20,15))\n",
    "plot=1\n",
    "for i in df_con_features:\n",
    "    if plot<=36:\n",
    "        plt.subplot(6,6,plot)\n",
    "        sns.boxplot(df_con_features[i])\n",
    "        plot=plot+1\n",
    "plt.show();6"
   ]
  },
  {
   "cell_type": "code",
   "execution_count": null,
   "id": "96e620e6",
   "metadata": {},
   "outputs": [],
   "source": []
  },
  {
   "cell_type": "code",
   "execution_count": null,
   "id": "595d15b5",
   "metadata": {},
   "outputs": [],
   "source": [
    "df.drop(columns=['daily_decr90','rental90','sumamnt_ma_rech90','medianamnt_ma_rech90','cnt_ma_rech30','amnt_loans90','medianamnt_loans90'],axis=1,inplace=True)"
   ]
  },
  {
   "cell_type": "code",
   "execution_count": null,
   "id": "55242d65",
   "metadata": {},
   "outputs": [],
   "source": [
    "from scipy.stats import zscore\n",
    "z_score=abs(zscore(df))\n",
    "print(df.shape)\n",
    "df_final=df.loc[(z_score<5).all(axis=1)]\n",
    "print(df_final.shape)"
   ]
  },
  {
   "cell_type": "code",
   "execution_count": null,
   "id": "7d276ba5",
   "metadata": {},
   "outputs": [],
   "source": [
    "df=df_final"
   ]
  },
  {
   "cell_type": "code",
   "execution_count": null,
   "id": "7df13068",
   "metadata": {},
   "outputs": [],
   "source": [
    "df_cap = df.copy()"
   ]
  },
  {
   "cell_type": "code",
   "execution_count": null,
   "id": "0506cd66",
   "metadata": {},
   "outputs": [],
   "source": [
    "from scipy import stats\n",
    "def percentile_capping(df, cols, from_low_end, from_high_end):\n",
    "    for col in cols:\n",
    "        stats.mstats.winsorize(a=df[col], limits=(from_low_end, from_high_end), inplace=True)"
   ]
  },
  {
   "cell_type": "code",
   "execution_count": null,
   "id": "2369f1b4",
   "metadata": {},
   "outputs": [],
   "source": [
    "percentile_capping(df_cap, features, 0.01, 0.10)"
   ]
  },
  {
   "cell_type": "code",
   "execution_count": null,
   "id": "0d29501b",
   "metadata": {},
   "outputs": [],
   "source": [
    "df.skew()"
   ]
  },
  {
   "cell_type": "code",
   "execution_count": null,
   "id": "c5f8fd0a",
   "metadata": {},
   "outputs": [],
   "source": [
    "df.columns"
   ]
  },
  {
   "cell_type": "code",
   "execution_count": null,
   "id": "b7a4f6cf",
   "metadata": {},
   "outputs": [],
   "source": [
    "features=['aon','daily_decr30','rental30','last_rech_date_ma','last_rech_amt_ma',\n",
    "          'fr_ma_rech30','sumamnt_ma_rech30','medianamnt_ma_rech30','medianmarechprebal30','cnt_ma_rech90',\n",
    "          'fr_ma_rech90','medianmarechprebal90','cnt_da_rech30','fr_da_rech30','cnt_da_rech90','fr_da_rech90',\n",
    "          'cnt_loans30','amnt_loans30','maxamnt_loans30','medianamnt_loans30','cnt_loans90','maxamnt_loans90',\n",
    "         'payback30','payback90']"
   ]
  },
  {
   "cell_type": "code",
   "execution_count": null,
   "id": "c7f3a132",
   "metadata": {},
   "outputs": [],
   "source": [
    "from sklearn.preprocessing import PowerTransformer\n",
    "scaler=PowerTransformer(method='yeo-johnson',standardize=True)"
   ]
  },
  {
   "cell_type": "code",
   "execution_count": null,
   "id": "3b88a0a5",
   "metadata": {},
   "outputs": [],
   "source": [
    "df[features]=scaler.fit_transform(df[features].values)  # scaling the features"
   ]
  },
  {
   "cell_type": "code",
   "execution_count": null,
   "id": "0cb21a59",
   "metadata": {},
   "outputs": [],
   "source": [
    "df[features]"
   ]
  },
  {
   "cell_type": "code",
   "execution_count": null,
   "id": "fd4b22c7",
   "metadata": {},
   "outputs": [],
   "source": [
    "df.skew()"
   ]
  },
  {
   "cell_type": "code",
   "execution_count": null,
   "id": "317aace0",
   "metadata": {},
   "outputs": [],
   "source": [
    "y=df['label']\n",
    "x=df.drop(columns=['label'])"
   ]
  },
  {
   "cell_type": "code",
   "execution_count": null,
   "id": "92e650e5",
   "metadata": {},
   "outputs": [],
   "source": [
    "y.value_counts()"
   ]
  },
  {
   "cell_type": "code",
   "execution_count": null,
   "id": "e99f229b",
   "metadata": {},
   "outputs": [],
   "source": [
    "from imblearn.over_sampling import SMOTE\n",
    "sm=SMOTE()\n",
    "x,y = sm.fit_resample(x,y)"
   ]
  },
  {
   "cell_type": "code",
   "execution_count": null,
   "id": "8f23b55f",
   "metadata": {},
   "outputs": [],
   "source": [
    "df_cap.skew()"
   ]
  },
  {
   "cell_type": "code",
   "execution_count": null,
   "id": "06da967b",
   "metadata": {},
   "outputs": [],
   "source": [
    "from sklearn.preprocessing import StandardScaler\n",
    "ss=StandardScaler()\n",
    "scaled_value=ss.fit_transform(x)"
   ]
  },
  {
   "cell_type": "code",
   "execution_count": null,
   "id": "d57bd1e1",
   "metadata": {},
   "outputs": [],
   "source": []
  },
  {
   "cell_type": "code",
   "execution_count": null,
   "id": "28aaa982",
   "metadata": {},
   "outputs": [],
   "source": [
    "plt.figure(figsize=(10,6))\n",
    "data.corr()['label'].sort_values(ascending=False).drop(['label']).plot(kind='bar',color='m')\n",
    "plt.xlabel('Feature',fontsize=14)\n",
    "plt.ylabel('column with target names',fontsize=14)\n",
    "plt.title('correlation',fontsize=18)\n",
    "plt.show()"
   ]
  },
  {
   "cell_type": "code",
   "execution_count": null,
   "id": "021eb47b",
   "metadata": {},
   "outputs": [],
   "source": [
    "from sklearn import decomposition\n",
    "from sklearn.decomposition import PCA"
   ]
  },
  {
   "cell_type": "code",
   "execution_count": null,
   "id": "8af9f678",
   "metadata": {},
   "outputs": [],
   "source": [
    "pca=PCA()\n",
    "pca.fit_transform(scaled_value)"
   ]
  },
  {
   "cell_type": "code",
   "execution_count": null,
   "id": "07b1722e",
   "metadata": {},
   "outputs": [],
   "source": [
    "plt.figure()\n",
    "plt.plot(np.cumsum(pca.explained_variance_ratio_))\n",
    "plt.xlabel('Principal Component')\n",
    "plt.ylabel('Variance Covered')\n",
    "plt.title('Principle Component Analysis',color='darkblue')\n",
    "plt.show()"
   ]
  },
  {
   "cell_type": "code",
   "execution_count": null,
   "id": "6c61d063",
   "metadata": {},
   "outputs": [],
   "source": [
    "from sklearn.linear_model import LogisticRegression,LinearRegression,Lasso,Ridge,ElasticNet\n",
    "from sklearn.tree import DecisionTreeClassifier\n",
    "from sklearn.naive_bayes import GaussianNB\n",
    "from sklearn.neighbors import KNeighborsClassifier\n",
    "from sklearn.svm import SVC\n",
    "from sklearn.ensemble import RandomForestClassifier\n",
    "from sklearn.ensemble import AdaBoostClassifier\n",
    "from sklearn.ensemble import GradientBoostingClassifier\n",
    "from sklearn.metrics import mean_absolute_error,mean_squared_error,r2_score\n",
    "from sklearn.metrics import accuracy_score,roc_auc_score,roc_curve,auc,classification_report,confusion_matrix\n",
    "from sklearn.model_selection import cross_val_score,GridSearchCV,train_test_split"
   ]
  },
  {
   "cell_type": "code",
   "execution_count": null,
   "id": "78df769f",
   "metadata": {},
   "outputs": [],
   "source": [
    "x_test, y_test ,x_train, y_train = train_test_split(x,y,test_size=0.20,random_state=0)"
   ]
  },
  {
   "cell_type": "code",
   "execution_count": null,
   "id": "4190ba8c",
   "metadata": {},
   "outputs": [],
   "source": [
    "def accuracy(clf,x,y):   \n",
    "    max_accuracy=0\n",
    "    for i in range(42,100):\n",
    "        clf.fit(x_train,y_train)\n",
    "        pred = clf.predict(x_test)\n",
    "        accuracy_s = accuracy_score(y_test,pred)\n",
    "        if accuracy_s > max_accuracy:\n",
    "            max_accuracy = accuracy_s\n",
    "            result = i\n",
    "    \n",
    "    print('max_accuracy_score',result,'is',max_accuracy*100)\n",
    "    print('cross validation score',cross_val_score(clf,x,y,scoring='accuracy').mean()*100)\n",
    "    print('Standard Deviation',cross_val_score(clf,x,y,scoring='accuracy').std()*100)\n",
    "    print('Training accuracy',clf.score(x_train,y_train)*100)\n",
    "    print('Test Accuracy',clf.score(x_test,y_test)*100)\n",
    "    print('Confusion_Matrix',confusion_matrix(y_test,pred))\n",
    "    print('Classification_Report',classification_report(y_test,pred))\n",
    "    \n",
    "    print('Roc_auc_Score',roc_auc_score(y_test,pred))\n",
    "    false_positive_rate, true_positive_rate, thresholds = roc_curve(y_test,pred)\n",
    "    roc_auc = auc( false_positive_rate, true_positive_rate)\n",
    "    plt.plot(false_positive_rate, true_positive_rate,label = \"AUC = %0.2f\"% roc_auc)\n",
    "    plt.plot([0,1],[0,1],'r--')\n",
    "    plt.legend(loc = 'lower right')\n",
    "    plt.ylabel(\"True positive rate\")\n",
    "    plt.xlabel(\"False positive rate\")\n",
    "    print(\"\\n\\n\")\n",
    "    \n",
    "    \n",
    "    return result"
   ]
  },
  {
   "cell_type": "code",
   "execution_count": null,
   "id": "893125a5",
   "metadata": {},
   "outputs": [],
   "source": [
    "lg=LogisticRegression()\n",
    "accuracy(lg,x,y)"
   ]
  },
  {
   "cell_type": "code",
   "execution_count": null,
   "id": "a3a19503",
   "metadata": {},
   "outputs": [],
   "source": [
    "dt=DecisionTreeClassifier()\n",
    "accuracy(dt,x,y)"
   ]
  },
  {
   "cell_type": "code",
   "execution_count": null,
   "id": "701bb8aa",
   "metadata": {},
   "outputs": [],
   "source": [
    "knn=KNeighborsClassifier()\n",
    "accuracy(knn,x,y)"
   ]
  },
  {
   "cell_type": "code",
   "execution_count": null,
   "id": "16dcf7f7",
   "metadata": {},
   "outputs": [],
   "source": [
    "sv=SVC()\n",
    "accuracy(sv,x,y)"
   ]
  },
  {
   "cell_type": "code",
   "execution_count": null,
   "id": "622fae65",
   "metadata": {},
   "outputs": [],
   "source": [
    "rf=RandomForestClassifier()\n",
    "accuracy(rf,x,y)"
   ]
  },
  {
   "cell_type": "code",
   "execution_count": null,
   "id": "bc838d91",
   "metadata": {},
   "outputs": [],
   "source": [
    "Adb=AdaBoostClassifier()\n",
    "accuracy(Adb,x,y)"
   ]
  },
  {
   "cell_type": "code",
   "execution_count": null,
   "id": "32ba1963",
   "metadata": {},
   "outputs": [],
   "source": [
    "gnb=GradientBoostingClassifier()\n",
    "accuracy(gnb,x,y)"
   ]
  },
  {
   "cell_type": "code",
   "execution_count": null,
   "id": "637113f6",
   "metadata": {},
   "outputs": [],
   "source": [
    "Hyperparameter Tuning"
   ]
  },
  {
   "cell_type": "code",
   "execution_count": null,
   "id": "d5b4c3cc",
   "metadata": {},
   "outputs": [],
   "source": [
    "rf = RandomForestClassifier()\n",
    "params={'n_estimators':[10,12,15,19],\n",
    "       'criterion':['entropy','gini'],\n",
    "       'max_depth':[10,12,16,18],\n",
    "       'min_samples_split':[10,12,11,13],\n",
    "       'min_samples_leaf':[4,5,6,8]}\n",
    "\n",
    "grd= GridSearchCV(rf,param_grid=params)\n",
    "grd.fit(x_train,y_train)\n",
    "print('best_params=> ',grd.best_params_)\n",
    "\n",
    "rf=grd.best_estimator_ \n",
    "rf.fit(x_train,y_train)\n",
    "y_pred=rf.predict(x_test)\n",
    "\n",
    "rf_conf_mat = confusion_matrix(y_test,y_pred)\n",
    "print('con_mat=> ','\\n',rf_conf_mat)\n",
    "print('Accuracy of random forest After Hyperparameter Tuning==> ',accuracy_score(y_test,y_pred)*100)"
   ]
  },
  {
   "cell_type": "code",
   "execution_count": null,
   "id": "707c1566",
   "metadata": {},
   "outputs": [],
   "source": [
    "import joblib\n",
    "joblib.dump(rf,'micro_credit.pkl')"
   ]
  },
  {
   "cell_type": "code",
   "execution_count": null,
   "id": "9f7db55e",
   "metadata": {},
   "outputs": [],
   "source": [
    "loaded_model=joblib.load('micro_credit.pkl')\n",
    "prediction=loaded_model.predict(x_test)"
   ]
  },
  {
   "cell_type": "code",
   "execution_count": null,
   "id": "3c8cabff",
   "metadata": {},
   "outputs": [],
   "source": [
    "prediction"
   ]
  }
 ],
 "metadata": {
  "kernelspec": {
   "display_name": "Python 3",
   "language": "python",
   "name": "python3"
  },
  "language_info": {
   "codemirror_mode": {
    "name": "ipython",
    "version": 3
   },
   "file_extension": ".py",
   "mimetype": "text/x-python",
   "name": "python",
   "nbconvert_exporter": "python",
   "pygments_lexer": "ipython3",
   "version": "3.8.8"
  }
 },
 "nbformat": 4,
 "nbformat_minor": 5
}
